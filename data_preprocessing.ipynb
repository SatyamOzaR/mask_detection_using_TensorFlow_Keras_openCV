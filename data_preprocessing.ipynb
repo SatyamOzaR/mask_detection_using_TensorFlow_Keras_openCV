{
 "cells": [
  {
   "cell_type": "markdown",
   "metadata": {},
   "source": [
    "# '''Author :- Satyam Oza R\n",
    "\n",
    "This file is used to filter out the corrupted image files from large dataset and also rename the dataset sequentially"
   ]
  },
  {
   "cell_type": "code",
   "execution_count": 26,
   "metadata": {},
   "outputs": [],
   "source": [
    "import os\n",
    "from  PIL import Image\n",
    "\n",
    "i = 0\n",
    "\n",
    "path = r'**path**'\n",
    "\n",
    "for f in os.listdir(path):\n",
    "    \n",
    "    i += 1\n",
    "    \n",
    "    try:\n",
    "        img = Image.open(os.path.join(path, f))\n",
    "        img.verify()\n",
    "        os.rename(os.path.join(path, f), os.path.join(path, '#' + str(i) + '.jpg'))\n",
    "        \n",
    "    except:\n",
    "        os.remove(os.path.join(path, f))\n",
    "    "
   ]
  },
  {
   "cell_type": "code",
   "execution_count": null,
   "metadata": {},
   "outputs": [],
   "source": []
  }
 ],
 "metadata": {
  "kernelspec": {
   "display_name": "Python 3",
   "language": "python",
   "name": "python3"
  },
  "language_info": {
   "codemirror_mode": {
    "name": "ipython",
    "version": 3
   },
   "file_extension": ".py",
   "mimetype": "text/x-python",
   "name": "python",
   "nbconvert_exporter": "python",
   "pygments_lexer": "ipython3",
   "version": "3.8.5"
  }
 },
 "nbformat": 4,
 "nbformat_minor": 4
}
